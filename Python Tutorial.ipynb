{
 "cells": [
  {
   "cell_type": "code",
   "execution_count": 6,
   "metadata": {},
   "outputs": [
    {
     "name": "stdout",
     "output_type": "stream",
     "text": [
      "5\n",
      "1\n",
      "6\n",
      "2.5\n",
      "2\n",
      "1\n"
     ]
    }
   ],
   "source": [
    "import math as m\n",
    "#Arithmetic Operations with numbers\n",
    "print(2+3)\n",
    "print(4-3)\n",
    "print(2*3)\n",
    "print((5/2))\n",
    "print(5//2)\n",
    "print(5%2)"
   ]
  },
  {
   "cell_type": "code",
   "execution_count": 13,
   "metadata": {},
   "outputs": [
    {
     "data": {
      "text/plain": [
       "1024"
      ]
     },
     "execution_count": 13,
     "metadata": {},
     "output_type": "execute_result"
    }
   ],
   "source": [
    "#To find the power **\n",
    "2**10"
   ]
  },
  {
   "cell_type": "code",
   "execution_count": 22,
   "metadata": {},
   "outputs": [
    {
     "name": "stdout",
     "output_type": "stream",
     "text": [
      "HI HI \n",
      "navin's laptop\n"
     ]
    }
   ],
   "source": [
    "#What about strings\n",
    "print(\"HI \"*2) #It suppport multiplication\n",
    "print('navin\\'s laptop')"
   ]
  },
  {
   "cell_type": "code",
   "execution_count": 2,
   "metadata": {},
   "outputs": [
    {
     "name": "stdout",
     "output_type": "stream",
     "text": [
      "C:\\na\"vin\n"
     ]
    }
   ],
   "source": [
    "print(r'C:\\na\"vin') #STRINGS ARE IMMUTABLE"
   ]
  },
  {
   "cell_type": "code",
   "execution_count": 53,
   "metadata": {},
   "outputs": [
    {
     "data": {
      "text/plain": [
       "'sha'"
      ]
     },
     "execution_count": 53,
     "metadata": {},
     "output_type": "execute_result"
    }
   ],
   "source": [
    "w = 'arshad'\n",
    "w[2:5]"
   ]
  },
  {
   "cell_type": "code",
   "execution_count": 12,
   "metadata": {},
   "outputs": [
    {
     "name": "stdout",
     "output_type": "stream",
     "text": [
      "16\n"
     ]
    },
    {
     "data": {
      "text/plain": [
       "16"
      ]
     },
     "execution_count": 12,
     "metadata": {},
     "output_type": "execute_result"
    }
   ],
   "source": [
    "x=9\n",
    "y=7\n",
    "print(x+y)\n",
    "x+y"
   ]
  },
  {
   "cell_type": "code",
   "execution_count": 13,
   "metadata": {},
   "outputs": [
    {
     "data": {
      "text/plain": [
       "18"
      ]
     },
     "execution_count": 13,
     "metadata": {},
     "output_type": "execute_result"
    }
   ],
   "source": [
    "_+2 #underscore is previous operation output"
   ]
  },
  {
   "cell_type": "code",
   "execution_count": 14,
   "metadata": {},
   "outputs": [],
   "source": [
    "#List\n",
    "a=[1,2,3,4,5]"
   ]
  },
  {
   "cell_type": "code",
   "execution_count": 15,
   "metadata": {},
   "outputs": [],
   "source": [
    "b=[-1,'ali',7.0,a]"
   ]
  },
  {
   "cell_type": "code",
   "execution_count": 16,
   "metadata": {},
   "outputs": [
    {
     "data": {
      "text/plain": [
       "-1"
      ]
     },
     "execution_count": 16,
     "metadata": {},
     "output_type": "execute_result"
    }
   ],
   "source": [
    "b[0]"
   ]
  },
  {
   "cell_type": "code",
   "execution_count": 17,
   "metadata": {},
   "outputs": [
    {
     "data": {
      "text/plain": [
       "[1, 2, 3, 4, 5]"
      ]
     },
     "execution_count": 17,
     "metadata": {},
     "output_type": "execute_result"
    }
   ],
   "source": [
    "b[-1]"
   ]
  },
  {
   "cell_type": "code",
   "execution_count": 18,
   "metadata": {},
   "outputs": [
    {
     "name": "stdout",
     "output_type": "stream",
     "text": [
      "[-1, 'ali', 7.0, [1, 2, 3, 4, 5]]\n"
     ]
    }
   ],
   "source": [
    "print(b)"
   ]
  },
  {
   "cell_type": "code",
   "execution_count": 19,
   "metadata": {},
   "outputs": [
    {
     "name": "stdout",
     "output_type": "stream",
     "text": [
      "[-1, 'ali', 7.0, [1, 2, 3, 4, 5], 4]\n"
     ]
    }
   ],
   "source": [
    "#Operations in list\n",
    "b.append(4)\n",
    "print(b)"
   ]
  },
  {
   "cell_type": "code",
   "execution_count": 20,
   "metadata": {},
   "outputs": [],
   "source": [
    "b.remove(4) # list.remove(value)"
   ]
  },
  {
   "cell_type": "code",
   "execution_count": 21,
   "metadata": {},
   "outputs": [
    {
     "name": "stdout",
     "output_type": "stream",
     "text": [
      "[-1, 'ali', 7.0, [1, 2, 3, 4, 5]]\n"
     ]
    }
   ],
   "source": [
    "print(b)"
   ]
  },
  {
   "cell_type": "code",
   "execution_count": 25,
   "metadata": {},
   "outputs": [],
   "source": [
    "b.insert(4,3) # list.insert(pos,value)"
   ]
  },
  {
   "cell_type": "code",
   "execution_count": 26,
   "metadata": {},
   "outputs": [
    {
     "name": "stdout",
     "output_type": "stream",
     "text": [
      "[-1, 'ali', 7.0, [1, 2, 3, 4, 5], 3, 3]\n"
     ]
    }
   ],
   "source": [
    "print(b)"
   ]
  },
  {
   "cell_type": "code",
   "execution_count": 27,
   "metadata": {},
   "outputs": [
    {
     "data": {
      "text/plain": [
       "3"
      ]
     },
     "execution_count": 27,
     "metadata": {},
     "output_type": "execute_result"
    }
   ],
   "source": [
    "b.pop(5) "
   ]
  },
  {
   "cell_type": "code",
   "execution_count": 28,
   "metadata": {},
   "outputs": [
    {
     "name": "stdout",
     "output_type": "stream",
     "text": [
      "[-1, 'ali', 7.0, [1, 2, 3, 4, 5], 3]\n"
     ]
    }
   ],
   "source": [
    "print(b)"
   ]
  },
  {
   "cell_type": "code",
   "execution_count": 29,
   "metadata": {},
   "outputs": [
    {
     "data": {
      "text/plain": [
       "1"
      ]
     },
     "execution_count": 29,
     "metadata": {},
     "output_type": "execute_result"
    }
   ],
   "source": [
    "min(a)"
   ]
  },
  {
   "cell_type": "code",
   "execution_count": 30,
   "metadata": {},
   "outputs": [
    {
     "data": {
      "text/plain": [
       "5"
      ]
     },
     "execution_count": 30,
     "metadata": {},
     "output_type": "execute_result"
    }
   ],
   "source": [
    "max(a)"
   ]
  },
  {
   "cell_type": "code",
   "execution_count": 31,
   "metadata": {},
   "outputs": [
    {
     "data": {
      "text/plain": [
       "15"
      ]
     },
     "execution_count": 31,
     "metadata": {},
     "output_type": "execute_result"
    }
   ],
   "source": [
    "sum(a)"
   ]
  },
  {
   "cell_type": "code",
   "execution_count": 32,
   "metadata": {},
   "outputs": [],
   "source": [
    "a.sort()"
   ]
  },
  {
   "cell_type": "code",
   "execution_count": 33,
   "metadata": {},
   "outputs": [],
   "source": [
    "a.clear()"
   ]
  },
  {
   "cell_type": "code",
   "execution_count": 1,
   "metadata": {},
   "outputs": [],
   "source": [
    "a=[1,4,5,6,7]\n",
    "a.extend([1,4,6])"
   ]
  },
  {
   "cell_type": "code",
   "execution_count": 2,
   "metadata": {},
   "outputs": [
    {
     "name": "stdout",
     "output_type": "stream",
     "text": [
      "[1, 4, 5, 6, 7, 1, 4, 6]\n"
     ]
    }
   ],
   "source": [
    "print(a)"
   ]
  },
  {
   "cell_type": "code",
   "execution_count": 3,
   "metadata": {},
   "outputs": [
    {
     "data": {
      "text/plain": [
       "[1, 4, 5, 6, 7, 1, 4, 6, [1, 4, 5, 6, 7, 1, 4, 6]]"
      ]
     },
     "execution_count": 3,
     "metadata": {},
     "output_type": "execute_result"
    }
   ],
   "source": [
    "c = a.copy()\n",
    "c.append(a)\n",
    "c"
   ]
  },
  {
   "cell_type": "markdown",
   "metadata": {},
   "source": [
    "\n",
    "*append():\tAdds an element at the end of the list\n",
    " clear():\tRemoves all the elements from the list\n",
    " copy():\tReturns a copy of the list\n",
    " count():\tReturns the number of elements with the specified value\n",
    " extend():\tAdd the elements of a list (or any iterable), to the end of the      current list\n",
    " index():\tReturns the index of the first element with the specified value\n",
    " insert():\tAdds an element at the specified position\n",
    " pop():\tRemoves the element at the specified position\n",
    " remove():\tRemoves the item with the specified value\n",
    " reverse():\tReverses the order of the list\n",
    " sort():\tSorts the list*"
   ]
  },
  {
   "cell_type": "code",
   "execution_count": 9,
   "metadata": {},
   "outputs": [
    {
     "data": {
      "text/plain": [
       "[6, 4, 1, 7, 6, 5, 4, 1]"
      ]
     },
     "execution_count": 9,
     "metadata": {},
     "output_type": "execute_result"
    }
   ],
   "source": [
    "a.reverse()\n",
    "a"
   ]
  },
  {
   "cell_type": "code",
   "execution_count": 83,
   "metadata": {},
   "outputs": [],
   "source": [
    "#Tuple\n",
    "tup = (1,3,6,7)"
   ]
  },
  {
   "cell_type": "code",
   "execution_count": 84,
   "metadata": {},
   "outputs": [
    {
     "name": "stdout",
     "output_type": "stream",
     "text": [
      "{1, 2, 3, 4}\n"
     ]
    }
   ],
   "source": [
    "#set\n",
    "s = {1,2,3,3,4}\n",
    "print(s)"
   ]
  },
  {
   "cell_type": "code",
   "execution_count": 37,
   "metadata": {},
   "outputs": [
    {
     "data": {
      "text/plain": [
       "complex"
      ]
     },
     "execution_count": 37,
     "metadata": {},
     "output_type": "execute_result"
    }
   ],
   "source": [
    "#Data types in Python\n",
    "\n",
    "num= 1+6j\n",
    "type(num)"
   ]
  },
  {
   "cell_type": "code",
   "execution_count": 87,
   "metadata": {},
   "outputs": [
    {
     "name": "stdout",
     "output_type": "stream",
     "text": [
      "(5+6j)\n"
     ]
    }
   ],
   "source": [
    "c = complex(5,6)\n",
    "print(c)"
   ]
  },
  {
   "cell_type": "code",
   "execution_count": 32,
   "metadata": {},
   "outputs": [
    {
     "data": {
      "text/plain": [
       "False"
      ]
     },
     "execution_count": 32,
     "metadata": {},
     "output_type": "execute_result"
    }
   ],
   "source": [
    "bool(\"\")"
   ]
  },
  {
   "cell_type": "code",
   "execution_count": 12,
   "metadata": {},
   "outputs": [
    {
     "data": {
      "text/plain": [
       "False"
      ]
     },
     "execution_count": 12,
     "metadata": {},
     "output_type": "execute_result"
    }
   ],
   "source": [
    "bool(None)"
   ]
  },
  {
   "cell_type": "code",
   "execution_count": 16,
   "metadata": {},
   "outputs": [
    {
     "data": {
      "text/plain": [
       "False"
      ]
     },
     "execution_count": 16,
     "metadata": {},
     "output_type": "execute_result"
    }
   ],
   "source": [
    "bool(False)"
   ]
  },
  {
   "cell_type": "code",
   "execution_count": 13,
   "metadata": {},
   "outputs": [
    {
     "ename": "SyntaxError",
     "evalue": "invalid syntax (<ipython-input-13-7925dbaaf142>, line 4)",
     "output_type": "error",
     "traceback": [
      "\u001b[1;36m  File \u001b[1;32m\"<ipython-input-13-7925dbaaf142>\"\u001b[1;36m, line \u001b[1;32m4\u001b[0m\n\u001b[1;33m    print(bool(\"\"))\u001b[0m\n\u001b[1;37m        ^\u001b[0m\n\u001b[1;31mSyntaxError\u001b[0m\u001b[1;31m:\u001b[0m invalid syntax\n"
     ]
    }
   ],
   "source": [
    "print(bool(False)\n",
    "#print(bool(None))\n",
    "#print(bool(0))\n",
    "print(bool(\"\"))\n",
    "print(bool(()))\n",
    "print(bool([]))\n",
    "print(bool({}))"
   ]
  },
  {
   "cell_type": "code",
   "execution_count": 17,
   "metadata": {},
   "outputs": [
    {
     "data": {
      "text/plain": [
       "'0b11001'"
      ]
     },
     "execution_count": 17,
     "metadata": {},
     "output_type": "execute_result"
    }
   ],
   "source": [
    "bin(25)"
   ]
  },
  {
   "cell_type": "code",
   "execution_count": 18,
   "metadata": {},
   "outputs": [
    {
     "data": {
      "text/plain": [
       "'0x19'"
      ]
     },
     "execution_count": 18,
     "metadata": {},
     "output_type": "execute_result"
    }
   ],
   "source": [
    "hex(25)"
   ]
  },
  {
   "cell_type": "code",
   "execution_count": null,
   "metadata": {},
   "outputs": [],
   "source": [
    "#DECISION CONTROL STATEMENTS\n",
    "'''If Elif While Do..While'''\n",
    "x=10\n",
    "while(x):\n",
    "    print(2)\n",
    "    x--"
   ]
  },
  {
   "cell_type": "code",
   "execution_count": null,
   "metadata": {},
   "outputs": [],
   "source": [
    "hi"
   ]
  },
  {
   "cell_type": "code",
   "execution_count": 15,
   "metadata": {},
   "outputs": [
    {
     "name": "stdout",
     "output_type": "stream",
     "text": [
      "2\n",
      "3\n",
      "4\n",
      "5\n",
      "7\n",
      "11\n"
     ]
    }
   ],
   "source": [
    "#To print upto N primes\n",
    "\n",
    "n=12\n",
    "for i in range(2,n):\n",
    "    for j in range(2,i//2):\n",
    "        if i%j==0:\n",
    "            break\n",
    "    else:\n",
    "        print(i)"
   ]
  },
  {
   "cell_type": "code",
   "execution_count": 5,
   "metadata": {},
   "outputs": [
    {
     "name": "stdout",
     "output_type": "stream",
     "text": [
      "st[0:5] is Hello Wor\n"
     ]
    }
   ],
   "source": [
    "#Arrays\n",
    "st = \"Hello World\"\n",
    "print(\"st[0:5] is\" , st[0:9])\n"
   ]
  },
  {
   "cell_type": "code",
   "execution_count": 47,
   "metadata": {},
   "outputs": [
    {
     "name": "stdout",
     "output_type": "stream",
     "text": [
      "892778\n",
      "677830\n",
      "907416\n",
      "635588\n",
      "619524\n",
      "178416\n",
      "457659\n",
      "858430\n",
      "699927\n",
      "726631\n"
     ]
    }
   ],
   "source": [
    "#What if i want to generate 10 random numbers between 1 to 1000?\n",
    "\n",
    "import random\n",
    "for i in range(0,10):\n",
    "    print(random.randrange(100000,1000000))"
   ]
  },
  {
   "cell_type": "code",
   "execution_count": 48,
   "metadata": {},
   "outputs": [
    {
     "name": "stdout",
     "output_type": "stream",
     "text": [
      "31\n",
      "Hello World Kaise HO? yaaro ?\n",
      " HELLO WORLD KAISE HO? YAARO ? \n",
      " hello world kaise ho? yaaro ? \n",
      " Jolly World Kaise HO? yaaro ? \n",
      "['', 'Hello', 'World', 'Kaise', 'HO?', 'yaaro', '?', '']\n",
      " hELLO wORLD kAISE ho? YAARO ? \n",
      " hello world kaise ho? yaaro ? \n",
      " hello world kaise ho? yaaro ? \n",
      "********* Hello World Kaise HO? yaaro ? **********\n",
      "b' Hello World Kaise HO? yaaro ? '\n",
      "True\n",
      "00000000 Hello World Kaise HO? yaaro ? \n",
      " Hello World Kaise Ho? Yaaro ? \n"
     ]
    }
   ],
   "source": [
    "#STRING METHODS\n",
    "\n",
    "str = \" Hello World Kaise HO? yaaro ? \"\n",
    "print(len(str))\n",
    "print(str.strip())\n",
    "print(str.upper())\n",
    "print(str.lower())\n",
    "print(str.replace(\"Hello\",\"Jolly\"))\n",
    "print(str.split(\" \"))#split where space occurs\n",
    "print(str.swapcase())\n",
    "print(str.capitalize())#Only first letter of string if its already capital i.e upper them it becomes small i.e lower\n",
    "print(str.casefold()) #does same job as lower( method)\n",
    "print(str.center(50,'*')) #string.center(length, character) default char=space\n",
    "print(str.encode())\n",
    "print(str.endswith(\" \"))\n",
    "print(str.zfill(39))\n",
    "print(str.title()) #coverts each first letter of word as uper case no vice versa like capitalize method :)\n"
   ]
  },
  {
   "cell_type": "code",
   "execution_count": 9,
   "metadata": {},
   "outputs": [
    {
     "name": "stdout",
     "output_type": "stream",
     "text": [
      "False\n"
     ]
    }
   ],
   "source": [
    "txt = \"The rain in Spain stays mainly in the plain\"\n",
    "x = \"ain\" not in txt\n",
    "print(x)"
   ]
  },
  {
   "cell_type": "code",
   "execution_count": 12,
   "metadata": {},
   "outputs": [
    {
     "name": "stdout",
     "output_type": "stream",
     "text": [
      "My name is John, and I am 36\n",
      "I want to pay 49.95 dollars for 3 pieces of item 567.\n"
     ]
    }
   ],
   "source": [
    "#As we know that we cannot concatenate the strings with numbers we do use this format( method) remeber to keep { } in str\n",
    "age = 36\n",
    "txt = \"My name is John, and I am {}\"\n",
    "print(txt.format(age))\n",
    "\n",
    "\n",
    "quantity = 3\n",
    "itemno = 567\n",
    "price = 49.95\n",
    "myorder = \"I want to pay {2} dollars for {0} pieces of item {1}.\"\n",
    "print(myorder.format(quantity, itemno, price))\n"
   ]
  },
  {
   "cell_type": "code",
   "execution_count": 24,
   "metadata": {},
   "outputs": [
    {
     "data": {
      "text/plain": [
       "['0', '3B6']"
      ]
     },
     "execution_count": 24,
     "metadata": {},
     "output_type": "execute_result"
    }
   ],
   "source": [
    "import re\n",
    "re.split('[a-c]', '0a3B6', re.I)"
   ]
  },
  {
   "cell_type": "code",
   "execution_count": 28,
   "metadata": {},
   "outputs": [
    {
     "ename": "TypeError",
     "evalue": "subn() missing 3 required positional arguments: 'pattern', 'repl', and 'string'",
     "output_type": "error",
     "traceback": [
      "\u001b[1;31m---------------------------------------------------------------------------\u001b[0m",
      "\u001b[1;31mTypeError\u001b[0m                                 Traceback (most recent call last)",
      "\u001b[1;32m<ipython-input-28-e4550a255c30>\u001b[0m in \u001b[0;36m<module>\u001b[1;34m\u001b[0m\n\u001b[0;32m      1\u001b[0m \u001b[0mre\u001b[0m\u001b[1;33m.\u001b[0m\u001b[0mcompile\u001b[0m\u001b[1;33m(\u001b[0m\u001b[1;34m\"d\"\u001b[0m\u001b[1;33m)\u001b[0m\u001b[1;33m\u001b[0m\u001b[1;33m\u001b[0m\u001b[0m\n\u001b[1;32m----> 2\u001b[1;33m \u001b[0mre\u001b[0m\u001b[1;33m.\u001b[0m\u001b[0msubn\u001b[0m\u001b[1;33m(\u001b[0m\u001b[1;33m)\u001b[0m\u001b[1;33m\u001b[0m\u001b[1;33m\u001b[0m\u001b[0m\n\u001b[0m",
      "\u001b[1;31mTypeError\u001b[0m: subn() missing 3 required positional arguments: 'pattern', 'repl', and 'string'"
     ]
    }
   ],
   "source": [
    "re.compile(\"d\")\n",
    "re.subn()"
   ]
  },
  {
   "cell_type": "code",
   "execution_count": 29,
   "metadata": {},
   "outputs": [
    {
     "ename": "TypeError",
     "evalue": "findall() missing 1 required positional argument: 'string'",
     "output_type": "error",
     "traceback": [
      "\u001b[1;31m---------------------------------------------------------------------------\u001b[0m",
      "\u001b[1;31mTypeError\u001b[0m                                 Traceback (most recent call last)",
      "\u001b[1;32m<ipython-input-29-ba1e30624952>\u001b[0m in \u001b[0;36m<module>\u001b[1;34m\u001b[0m\n\u001b[1;32m----> 1\u001b[1;33m \u001b[0mre\u001b[0m\u001b[1;33m.\u001b[0m\u001b[0mfindall\u001b[0m\u001b[1;33m(\u001b[0m\u001b[1;34m\"hello\"\u001b[0m\u001b[1;33m)\u001b[0m\u001b[1;33m\u001b[0m\u001b[1;33m\u001b[0m\u001b[0m\n\u001b[0m",
      "\u001b[1;31mTypeError\u001b[0m: findall() missing 1 required positional argument: 'string'"
     ]
    }
   ],
   "source": [
    "re.findall(\"hello\")"
   ]
  },
  {
   "cell_type": "code",
   "execution_count": 30,
   "metadata": {},
   "outputs": [
    {
     "data": {
      "text/plain": [
       "'a'"
      ]
     },
     "execution_count": 30,
     "metadata": {},
     "output_type": "execute_result"
    }
   ],
   "source": [
    "m = re.search('a', 'The blue umbrella') \n",
    "m.re.pattern"
   ]
  },
  {
   "cell_type": "code",
   "execution_count": 31,
   "metadata": {},
   "outputs": [
    {
     "data": {
      "text/plain": [
       "'good evening'"
      ]
     },
     "execution_count": 31,
     "metadata": {},
     "output_type": "execute_result"
    }
   ],
   "source": [
    "re.sub('morning', 'evening', 'good morning') "
   ]
  },
  {
   "cell_type": "code",
   "execution_count": 32,
   "metadata": {},
   "outputs": [],
   "source": [
    "d = {}"
   ]
  },
  {
   "cell_type": "code",
   "execution_count": 33,
   "metadata": {},
   "outputs": [
    {
     "data": {
      "text/plain": [
       "dict"
      ]
     },
     "execution_count": 33,
     "metadata": {},
     "output_type": "execute_result"
    }
   ],
   "source": [
    "type(d)"
   ]
  },
  {
   "cell_type": "markdown",
   "metadata": {},
   "source": [
    "LISTS"
   ]
  },
  {
   "cell_type": "code",
   "execution_count": 36,
   "metadata": {},
   "outputs": [],
   "source": [
    "#list methods\n",
    "\n",
    "l = [\"Apple\",\"Samsung\",\"Oppo\",\"Oneplus\",\"Realme\",\"Redmi\",\"Vivo\",\"Xiaomi\",\"Micromax\",\"Huawei\",\"Motorola\",\"LG\",\"Lenovo\",\"Nokia\",\"Google\",\"Sony\",\"ZTE\",\"Asus\",\"IQOO\",\"POCO\"]"
   ]
  },
  {
   "cell_type": "code",
   "execution_count": 34,
   "metadata": {},
   "outputs": [
    {
     "name": "stdout",
     "output_type": "stream",
     "text": [
      "['Apple', 'Samsung', 'Oppo', 'Oneplus', 'Realme', 'Redmi', 'Vivo', 'Xiaomi', 'Micromax', 'Huawei', 'Motorola', 'LG', 'Lenovo', 'Nokia', 'Google', 'Sony', 'ZTE', 'Asus', 'IQOO', 'POCO', 'Blackberry']\n"
     ]
    }
   ],
   "source": [
    "l.append(\"Blackberry\")\n",
    "print(l)"
   ]
  },
  {
   "cell_type": "code",
   "execution_count": 35,
   "metadata": {},
   "outputs": [
    {
     "name": "stdout",
     "output_type": "stream",
     "text": [
      "[]\n"
     ]
    }
   ],
   "source": [
    "l.clear()\n",
    "print(l)"
   ]
  },
  {
   "cell_type": "code",
   "execution_count": 38,
   "metadata": {},
   "outputs": [
    {
     "name": "stdout",
     "output_type": "stream",
     "text": [
      "['Apple', 'Samsung', 'Oppo', 'Oneplus', 'Realme', 'Redmi', 'Vivo', 'Xiaomi', 'Micromax', 'Huawei', 'Motorola', 'LG', 'Lenovo', 'Nokia', 'Google', 'Sony', 'ZTE', 'Asus', 'IQOO', 'POCO']\n"
     ]
    }
   ],
   "source": [
    "smartphone_brands = l.copy()\n",
    "print(smartphone_brands)"
   ]
  },
  {
   "cell_type": "code",
   "execution_count": 45,
   "metadata": {},
   "outputs": [
    {
     "name": "stdout",
     "output_type": "stream",
     "text": [
      "['Apple', 'Asus', 'Google', 'Huawei', 'IQOO', 'LG', 'Lenovo', 'Micromax', 'Motorola', 'Nokia', 'Oneplus', 'Oppo', 'POCO', 'Realme', 'Redmi', 'Samsung', 'Sony', 'Vivo', 'Xiaomi', 'ZTE']\n"
     ]
    }
   ],
   "source": [
    "l.sort()\n",
    "print(l)"
   ]
  },
  {
   "cell_type": "code",
   "execution_count": 43,
   "metadata": {},
   "outputs": [
    {
     "name": "stdout",
     "output_type": "stream",
     "text": [
      "1\n"
     ]
    }
   ],
   "source": [
    "print( l.count(\"Nokia\"))"
   ]
  },
  {
   "cell_type": "code",
   "execution_count": 46,
   "metadata": {},
   "outputs": [
    {
     "name": "stdout",
     "output_type": "stream",
     "text": [
      "ZTE\n"
     ]
    }
   ],
   "source": [
    "print(l.pop())"
   ]
  },
  {
   "cell_type": "code",
   "execution_count": 47,
   "metadata": {},
   "outputs": [
    {
     "name": "stdout",
     "output_type": "stream",
     "text": [
      "['Apple', 'Asus', 'Google', 'Huawei', 'IQOO', 'LG', 'Lenovo', 'Micromax', 'Motorola', 'Nokia', 'Oneplus', 'Oppo', 'POCO', 'Realme', 'Redmi', 'Samsung', 'Sony', 'Vivo', 'Xiaomi']\n"
     ]
    }
   ],
   "source": [
    "print(l)"
   ]
  },
  {
   "cell_type": "code",
   "execution_count": 51,
   "metadata": {},
   "outputs": [
    {
     "name": "stdout",
     "output_type": "stream",
     "text": [
      "['Apple', 'Asus', 'Google', 'Huawei', 'IQOO', 'LG', 'Lenovo', 'Micromax', 'Motorola', 'Nokia', 'Oneplus', 'Oppo', 'POCO', 'Realme', 'Redmi', 'Samsung', 'Sony', 'Vivo', 'Xiaomi', 'ZTE', 'ZTE', 'ZTE']\n"
     ]
    }
   ],
   "source": [
    "l.insert(19,\"ZTE\") # first specify the position then the element\n",
    "print(l)"
   ]
  },
  {
   "cell_type": "code",
   "execution_count": 54,
   "metadata": {},
   "outputs": [
    {
     "name": "stdout",
     "output_type": "stream",
     "text": [
      "['Apple', 'Asus', 'Google', 'Huawei', 'IQOO', 'LG', 'Lenovo', 'Micromax', 'Motorola', 'Nokia', 'Oneplus', 'Oppo', 'POCO', 'Realme', 'Redmi', 'Samsung', 'Sony', 'Vivo', 'Xiaomi', 'ZTE']\n"
     ]
    }
   ],
   "source": [
    "l.remove(\"ZTE\") # first specify the position then the element\n",
    "print(l)"
   ]
  },
  {
   "cell_type": "code",
   "execution_count": 55,
   "metadata": {},
   "outputs": [
    {
     "name": "stdout",
     "output_type": "stream",
     "text": [
      "['Apple', 'Asus', 'Google', 'Huawei', 'IQOO', 'LG', 'Lenovo', 'Micromax', 'Motorola', 'Nokia', 'Oneplus', 'Oppo', 'POCO', 'Realme', 'Redmi', 'Samsung', 'Sony', 'Vivo', 'Xiaomi', 'ZTE', 'Apple', 'Samsung', 'Oppo', 'Oneplus', 'Realme', 'Redmi', 'Vivo', 'Xiaomi', 'Micromax', 'Huawei', 'Motorola', 'LG', 'Lenovo', 'Nokia', 'Google', 'Sony', 'ZTE', 'Asus', 'IQOO', 'POCO']\n"
     ]
    }
   ],
   "source": [
    "l.extend(smartphone_brands)\n",
    "#l.insert(19,\"ZTE\") # first specify the position then the element\n",
    "print(l)"
   ]
  },
  {
   "cell_type": "code",
   "execution_count": 59,
   "metadata": {},
   "outputs": [
    {
     "name": "stdout",
     "output_type": "stream",
     "text": [
      "['Apple', 'Asus', 'Google', 'Huawei', 'IQOO', 'LG', 'Lenovo', 'Micromax', 'Motorola', 'Nokia', 'Oneplus', 'Oppo', 'POCO', 'Realme', 'Redmi', 'Samsung', 'Sony', 'Vivo', 'Xiaomi', 'ZTE', 'Apple', 'Samsung', 'Oppo', 'Oneplus', 'Realme', 'Redmi', 'Vivo', 'Xiaomi', 'Micromax', 'Huawei', 'Motorola', 'LG', 'Lenovo', 'Nokia', 'Google', 'Sony', 'ZTE', 'Asus', 'IQOO', 'POCO']\n"
     ]
    }
   ],
   "source": [
    "l.reverse()\n",
    "print(l)"
   ]
  },
  {
   "cell_type": "markdown",
   "metadata": {},
   "source": [
    "SETS"
   ]
  },
  {
   "cell_type": "code",
   "execution_count": 62,
   "metadata": {},
   "outputs": [
    {
     "name": "stdout",
     "output_type": "stream",
     "text": [
      "{'Oneplus', 'Oppo', 'Apple', 'Micromax', 'Motorola', 'Realme', 'Xiaomi', 'Huawei', 'POCO', 'Sony', 'IQOO', 'Google', 'LG', 'Redmi', 'Nokia', 'Lenovo', 'Asus', 'Vivo', 'Samsung', 'ZTE'}\n"
     ]
    }
   ],
   "source": [
    "s = set(l)\n",
    "print(s)"
   ]
  },
  {
   "cell_type": "code",
   "execution_count": 63,
   "metadata": {},
   "outputs": [
    {
     "name": "stdout",
     "output_type": "stream",
     "text": [
      "{'Oneplus', 'Oppo', 'Apple', 'Micromax', 'Motorola', 'Realme', 'Xiaomi', 'Huawei', 'POCO', 'Sony', 'IQOO', 'Google', 'LG', 'Redmi', 'Nokia', 'Lenovo', 'Asus', 'Vivo', 'Samsung', 'ZTE', 'Meizu'}\n"
     ]
    }
   ],
   "source": [
    "s.add(\"Meizu\")\n",
    "print(s)"
   ]
  },
  {
   "cell_type": "code",
   "execution_count": 65,
   "metadata": {},
   "outputs": [],
   "source": [
    "s.discard(\"Lava\")"
   ]
  },
  {
   "cell_type": "code",
   "execution_count": 66,
   "metadata": {},
   "outputs": [],
   "source": [
    "p = {\"Apple\",\"Dell\",\"HP\",\"Asus\",\"Lenovo\",\"Xiaomi\",\"Acer\"}"
   ]
  },
  {
   "cell_type": "code",
   "execution_count": 69,
   "metadata": {},
   "outputs": [
    {
     "data": {
      "text/plain": [
       "{'Acer',\n",
       " 'Dell',\n",
       " 'Google',\n",
       " 'HP',\n",
       " 'Huawei',\n",
       " 'IQOO',\n",
       " 'LG',\n",
       " 'Meizu',\n",
       " 'Micromax',\n",
       " 'Motorola',\n",
       " 'Nokia',\n",
       " 'Oneplus',\n",
       " 'Oppo',\n",
       " 'POCO',\n",
       " 'Realme',\n",
       " 'Redmi',\n",
       " 'Samsung',\n",
       " 'Sony',\n",
       " 'Vivo',\n",
       " 'ZTE'}"
      ]
     },
     "execution_count": 69,
     "metadata": {},
     "output_type": "execute_result"
    }
   ],
   "source": [
    "s.symmetric_difference(p)"
   ]
  },
  {
   "cell_type": "code",
   "execution_count": 70,
   "metadata": {},
   "outputs": [
    {
     "name": "stdout",
     "output_type": "stream",
     "text": [
      "12\n"
     ]
    }
   ],
   "source": [
    "#Lambda Function\n",
    "\"\"\"syntax : lambda Args : expression\"\"\"\n",
    "f = lambda a,b,c:a*b*c;\n",
    "print(f(3,4,1))\n"
   ]
  },
  {
   "cell_type": "code",
   "execution_count": 26,
   "metadata": {},
   "outputs": [
    {
     "name": "stdout",
     "output_type": "stream",
     "text": [
      "Sun Oct 11 21:04:57 2020\n"
     ]
    }
   ],
   "source": [
    "import datetime\n",
    "\n",
    "a = datetime.datetime.now()\n",
    "print(a.strftime(\"%c\"))"
   ]
  },
  {
   "cell_type": "code",
   "execution_count": 79,
   "metadata": {},
   "outputs": [
    {
     "name": "stdout",
     "output_type": "stream",
     "text": [
      "{\"name\": \"John\", \"age\": 30, \"city\": \"New York\"}\n"
     ]
    },
    {
     "data": {
      "text/plain": [
       "str"
      ]
     },
     "execution_count": 79,
     "metadata": {},
     "output_type": "execute_result"
    }
   ],
   "source": [
    "import json\n",
    "\n",
    "# a Python object (dict):\n",
    "x = {\n",
    "  \"name\": \"John\",\n",
    "  \"age\": 30,\n",
    "  \"city\": \"New York\"\n",
    "}\n",
    "\n",
    "# convert into JSON:\n",
    "y = json.dumps(x)\n",
    "\n",
    "# the result is a JSON string:\n",
    "print(y)\n",
    "type(y)"
   ]
  },
  {
   "cell_type": "code",
   "execution_count": 82,
   "metadata": {},
   "outputs": [
    {
     "name": "stdout",
     "output_type": "stream",
     "text": [
      "Sp\n"
     ]
    }
   ],
   "source": [
    "import re\n",
    "\n",
    "txt = \"The rain in Spain\"\n",
    "x = re.search(r\"S\\w\", txt)\n",
    "print(x.group())"
   ]
  },
  {
   "cell_type": "markdown",
   "metadata": {},
   "source": [
    "**PATTERNS**"
   ]
  },
  {
   "cell_type": "code",
   "execution_count": 4,
   "metadata": {},
   "outputs": [
    {
     "name": "stdout",
     "output_type": "stream",
     "text": [
      "* \n",
      "\n",
      "* * \n",
      "\n",
      "* * * \n",
      "\n",
      "* * * * \n",
      "\n",
      "* * * * * \n",
      "\n"
     ]
    }
   ],
   "source": [
    "#Half Pyramid\n",
    "for i in range(0,5):\n",
    "    for j in range(0,i+1):\n",
    "        print(\"*\",end=\" \")\n",
    "    print(\"\\n\")"
   ]
  },
  {
   "cell_type": "code",
   "execution_count": 12,
   "metadata": {},
   "outputs": [
    {
     "name": "stdout",
     "output_type": "stream",
     "text": [
      "* * * * * \n",
      "\n",
      "*       * \n",
      "\n",
      "*       * \n",
      "\n",
      "*       * \n",
      "\n",
      "* * * * * \n",
      "\n"
     ]
    }
   ],
   "source": [
    "#Hollow Rectangle \n",
    "for i in range(0,5):\n",
    "    if(i==0 or i==4):\n",
    "        for j in range(0,5):\n",
    "            print(\"*\",end=\" \")\n",
    "    else:\n",
    "        for j in range(0,5):\n",
    "            if(j==4 or j==0):\n",
    "                print(\"*\",end=\" \")\n",
    "            else:\n",
    "                print(\" \",end=\" \")\n",
    "                \n",
    "    print(\"\\n\")"
   ]
  },
  {
   "cell_type": "code",
   "execution_count": 34,
   "metadata": {},
   "outputs": [
    {
     "name": "stdout",
     "output_type": "stream",
     "text": [
      "        * \r\n",
      "       * * \r\n",
      "      * * * \r\n",
      "     * * * * \r\n",
      "    * * * * * \r\n"
     ]
    }
   ],
   "source": [
    "# Python 3.x code to demonstrate star pattern \n",
    "\n",
    "# Function to demonstrate printing pattern triangle \n",
    "def triangle(n): \n",
    "\t\n",
    "\t# number of spaces \n",
    "\tk = 2*n - 2\n",
    "\n",
    "\t# outer loop to handle number of rows \n",
    "\tfor i in range(0, n): \n",
    "\t\n",
    "\t\t# inner loop to handle number spaces \n",
    "\t\t# values changing acc. to requirement \n",
    "\t\tfor j in range(0, k): \n",
    "\t\t\tprint(end=\" \") \n",
    "\t\n",
    "\t\t# decrementing k after each loop \n",
    "\t\tk = k - 1\n",
    "\t\n",
    "\t\t# inner loop to handle number of columns \n",
    "\t\t# values changing acc. to outer loop \n",
    "\t\tfor j in range(0, i+1): \n",
    "\t\t\n",
    "\t\t\t# printing stars \n",
    "\t\t\tprint(\"* \", end=\"\") \n",
    "\t\n",
    "\t\t# ending line after each row \n",
    "\t\tprint(\"\\r\") \n",
    "\n",
    "# Driver Code \n",
    "n = 5\n",
    "triangle(n) \n"
   ]
  },
  {
   "cell_type": "code",
   "execution_count": 52,
   "metadata": {},
   "outputs": [
    {
     "name": "stdout",
     "output_type": "stream",
     "text": [
      "        *\r\n",
      "       **\r\n",
      "      ***\r\n",
      "     ****\r\n",
      "    *****\r\n"
     ]
    }
   ],
   "source": [
    "def triangle(n):\n",
    "    k = 2*n-2\n",
    "    for i in range(0,n):\n",
    "        for j in range(0,k):\n",
    "            print(end=\" \")\n",
    "        k=k-1\n",
    "        for j in range(0,i+1):\n",
    "            print(\"*\",end=\"\")  \n",
    "        print(\"\\r\")\n",
    "triangle(5)"
   ]
  },
  {
   "cell_type": "raw",
   "metadata": {},
   "source": [
    "  1\n",
    "  2 2\n",
    "  3 3 3\n",
    "  4 4 4 4\n",
    "  3 3 3\n",
    "  2 2\n",
    "  1\n",
    "  \n",
    "  mindtree question\n",
    "    "
   ]
  },
  {
   "cell_type": "code",
   "execution_count": 6,
   "metadata": {},
   "outputs": [
    {
     "name": "stdout",
     "output_type": "stream",
     "text": [
      "4\n",
      "6\n",
      "GCD: 2\n",
      "LCM: 12\n"
     ]
    }
   ],
   "source": [
    "a=int(input())\n",
    "b=int(input())\n",
    "def GCD(a,b):\n",
    "    if b==0:\n",
    "        return a\n",
    "    elif a<b:\n",
    "        return GCD(b,a)\n",
    "    else:\n",
    "        return GCD(b,a%b)\n",
    "k = GCD(a,b)\n",
    "print(\"GCD:\",k)\n",
    "print(\"LCM:\",(a*b)//k)"
   ]
  },
  {
   "cell_type": "code",
   "execution_count": 8,
   "metadata": {},
   "outputs": [
    {
     "data": {
      "text/plain": [
       "120"
      ]
     },
     "execution_count": 8,
     "metadata": {},
     "output_type": "execute_result"
    }
   ],
   "source": [
    "def factu(a):\n",
    "    if a==0:\n",
    "        return 1\n",
    "    else:\n",
    "        return factu(a-1)*a\n",
    "factu(5)"
   ]
  },
  {
   "cell_type": "code",
   "execution_count": 6,
   "metadata": {},
   "outputs": [
    {
     "name": "stdout",
     "output_type": "stream",
     "text": [
      "0\n",
      "1\n",
      "1\n",
      "2\n",
      "3\n",
      "5\n",
      "8\n",
      "13\n",
      "21\n",
      "34\n",
      "55\n",
      "89\n",
      "144\n",
      "233\n",
      "377\n",
      "610\n",
      "987\n",
      "1597\n",
      "2584\n",
      "4181\n",
      "6765\n",
      "10946\n",
      "17711\n",
      "28657\n",
      "46368\n"
     ]
    }
   ],
   "source": [
    "def fib(n):\n",
    "    if n==0:                   #Base Condition\n",
    "        return 0\n",
    "    if n==1:\n",
    "        return 1\n",
    "    else:\n",
    "        return fib(n-1)+fib(n-2)\n",
    "for i in range(0,25):\n",
    "    print(fib(i))"
   ]
  },
  {
   "cell_type": "code",
   "execution_count": 7,
   "metadata": {},
   "outputs": [
    {
     "data": {
      "text/plain": [
       "180"
      ]
     },
     "execution_count": 7,
     "metadata": {},
     "output_type": "execute_result"
    }
   ],
   "source": [
    "15*12"
   ]
  },
  {
   "cell_type": "code",
   "execution_count": 8,
   "metadata": {},
   "outputs": [
    {
     "data": {
      "text/plain": [
       "54"
      ]
     },
     "execution_count": 8,
     "metadata": {},
     "output_type": "execute_result"
    }
   ],
   "source": [
    "2*27"
   ]
  },
  {
   "cell_type": "code",
   "execution_count": 54,
   "metadata": {},
   "outputs": [
    {
     "name": "stdout",
     "output_type": "stream",
     "text": [
      "0 1 1 2 3 5 8 13 "
     ]
    }
   ],
   "source": [
    "def fibo(n):\n",
    "    a=0\n",
    "    b=1\n",
    "    print(a,end=\" \")\n",
    "    print(b,end=\" \")\n",
    "    for i in range(2,n):\n",
    "        sm=a+b\n",
    "        print(sm,end=\" \")\n",
    "        a=b\n",
    "        b=sm\n",
    "fibo(8)"
   ]
  },
  {
   "cell_type": "code",
   "execution_count": 17,
   "metadata": {},
   "outputs": [
    {
     "name": "stdout",
     "output_type": "stream",
     "text": [
      "Yes\n"
     ]
    }
   ],
   "source": [
    "def leap_year_or_not(k):\n",
    "    if k%4==0:\n",
    "        if k%100==0:\n",
    "            if k%400==0:\n",
    "                print(\"Yes\")\n",
    "            else:\n",
    "                print(\"No\")\n",
    "        else:\n",
    "            print(\"yes\")\n",
    "    else:\n",
    "        print(\"No\")\n",
    "leap_year_or_not(1600)"
   ]
  },
  {
   "cell_type": "code",
   "execution_count": 9,
   "metadata": {},
   "outputs": [
    {
     "name": "stdout",
     "output_type": "stream",
     "text": [
      "5\n",
      "12321\n",
      "343\n",
      "22\n",
      "121\n",
      "98889\n",
      "98889\n"
     ]
    }
   ],
   "source": [
    "def rev(a):\n",
    "    revr=0\n",
    "    k=a\n",
    "    while(a!=0):\n",
    "        rem=a%10\n",
    "        revr=revr*10+rem\n",
    "        a=a//10\n",
    "    if(revr==k):\n",
    "        return 1\n",
    "    else:\n",
    "        return 0    \n",
    "lis =[]\n",
    "n=int(input())\n",
    "for i in range(0,n):\n",
    "    number=int(input())\n",
    "    lis.append(number)\n",
    "for i in range(0,5):\n",
    "    for j in range(0,5-i-1):\n",
    "        if(lis[j]>lis[j+1]):\n",
    "            temp=lis[j+1]\n",
    "            lis[j+1]=lis[j]\n",
    "            lis[j]=temp\n",
    "for i in range(0,5):\n",
    "    if(rev(lis[4-i])):\n",
    "        print(lis[4-i])\n",
    "        break"
   ]
  },
  {
   "cell_type": "code",
   "execution_count": 17,
   "metadata": {},
   "outputs": [
    {
     "name": "stdout",
     "output_type": "stream",
     "text": [
      "90 87\n",
      "87 90\n"
     ]
    }
   ],
   "source": [
    "a,b = input().split()\n",
    "temp = int(a)\n",
    "a=int(b)\n",
    "b=temp\n",
    "print(a,b)"
   ]
  },
  {
   "cell_type": "code",
   "execution_count": 14,
   "metadata": {},
   "outputs": [
    {
     "data": {
      "text/plain": [
       "'12'"
      ]
     },
     "execution_count": 14,
     "metadata": {},
     "output_type": "execute_result"
    }
   ],
   "source": [
    "a\n"
   ]
  },
  {
   "cell_type": "markdown",
   "metadata": {},
   "source": [
    "### 2D - ARRAYS "
   ]
  },
  {
   "cell_type": "code",
   "execution_count": 1,
   "metadata": {},
   "outputs": [],
   "source": [
    "def matrix_addition():\n",
    "    for i in range(0,n):\n",
    "        for j in range(0,m):\n",
    "            c[i][j] = a[i][j] + b[i][j]\n",
    "    return c"
   ]
  },
  {
   "cell_type": "code",
   "execution_count": 8,
   "metadata": {},
   "outputs": [
    {
     "name": "stdout",
     "output_type": "stream",
     "text": [
      "The 2 shares value of 2 micron technology is 2345.23 rupees\n"
     ]
    }
   ],
   "source": [
    "text = \"The {0} shares value of {0} micron technology is {1:.2f} rupees\"\n",
    "print(text.format(2,2345.2345))"
   ]
  },
  {
   "cell_type": "markdown",
   "metadata": {},
   "source": [
    "### EXCEPTION HANDLING"
   ]
  },
  {
   "cell_type": "markdown",
   "metadata": {},
   "source": [
    "The try block lets you test a block of code for errors.\n",
    "\n",
    "The except block lets you handle the error.\n",
    "\n",
    "The finally block lets you execute code, regardless of the result of the try- and except blocks."
   ]
  },
  {
   "cell_type": "code",
   "execution_count": 1,
   "metadata": {},
   "outputs": [
    {
     "name": "stdout",
     "output_type": "stream",
     "text": [
      "Something else went wrong\n"
     ]
    }
   ],
   "source": [
    "try:\n",
    "  print(y)\n",
    "except ZeroDivisionError:\n",
    "  print(\"entra babu x peru is not defined\")\n",
    "except NameError:\n",
    "  print(\"Something else went wrong\")"
   ]
  },
  {
   "cell_type": "code",
   "execution_count": 24,
   "metadata": {},
   "outputs": [
    {
     "ename": "ValueError",
     "evalue": "Only integers are allowed",
     "output_type": "error",
     "traceback": [
      "\u001b[1;31m---------------------------------------------------------------------------\u001b[0m",
      "\u001b[1;31mValueError\u001b[0m                                Traceback (most recent call last)",
      "\u001b[1;32m<ipython-input-24-b9f06f9ab9b3>\u001b[0m in \u001b[0;36m<module>\u001b[1;34m\u001b[0m\n\u001b[0;32m      2\u001b[0m \u001b[1;33m\u001b[0m\u001b[0m\n\u001b[0;32m      3\u001b[0m \u001b[1;32mif\u001b[0m \u001b[1;32mnot\u001b[0m \u001b[0mtype\u001b[0m\u001b[1;33m(\u001b[0m\u001b[0mx\u001b[0m\u001b[1;33m)\u001b[0m \u001b[1;32mis\u001b[0m \u001b[0mint\u001b[0m\u001b[1;33m:\u001b[0m\u001b[1;33m\u001b[0m\u001b[1;33m\u001b[0m\u001b[0m\n\u001b[1;32m----> 4\u001b[1;33m     \u001b[1;32mraise\u001b[0m \u001b[0mValueError\u001b[0m\u001b[1;33m(\u001b[0m\u001b[1;34m\"Only integers are allowed\"\u001b[0m\u001b[1;33m)\u001b[0m\u001b[1;33m\u001b[0m\u001b[1;33m\u001b[0m\u001b[0m\n\u001b[0m",
      "\u001b[1;31mValueError\u001b[0m: Only integers are allowed"
     ]
    }
   ],
   "source": [
    "x = \"hello\"\n",
    "\n",
    "if not type(x) is int:\n",
    "    raise ValueError(\"Only integers are allowed\")"
   ]
  },
  {
   "cell_type": "markdown",
   "metadata": {},
   "source": [
    "### FILE HANDLING "
   ]
  },
  {
   "cell_type": "code",
   "execution_count": 29,
   "metadata": {},
   "outputs": [],
   "source": [
    "f = open(\"testy.txt\",\"ab\")"
   ]
  },
  {
   "cell_type": "code",
   "execution_count": 30,
   "metadata": {},
   "outputs": [
    {
     "data": {
      "text/plain": [
       "4"
      ]
     },
     "execution_count": 30,
     "metadata": {},
     "output_type": "execute_result"
    }
   ],
   "source": [
    "l = [12,34,231,89]\n",
    "f.write(bytes(l))"
   ]
  },
  {
   "cell_type": "code",
   "execution_count": 31,
   "metadata": {},
   "outputs": [],
   "source": [
    "f.close()"
   ]
  },
  {
   "cell_type": "code",
   "execution_count": 32,
   "metadata": {},
   "outputs": [],
   "source": [
    "f = open(\"testy.txt\",\"rb\")"
   ]
  },
  {
   "cell_type": "code",
   "execution_count": 33,
   "metadata": {},
   "outputs": [],
   "source": [
    "buffer = f.read()"
   ]
  },
  {
   "cell_type": "code",
   "execution_count": 34,
   "metadata": {},
   "outputs": [
    {
     "name": "stdout",
     "output_type": "stream",
     "text": [
      "8\n",
      "12\n",
      "34\n",
      "67\n",
      "89\n",
      "12\n",
      "34\n",
      "231\n",
      "89\n"
     ]
    }
   ],
   "source": [
    "print(len(buffer))\n",
    "for i in buffer:\n",
    "    print(int(i))"
   ]
  },
  {
   "cell_type": "code",
   "execution_count": 35,
   "metadata": {},
   "outputs": [],
   "source": [
    "import json"
   ]
  },
  {
   "cell_type": "code",
   "execution_count": 36,
   "metadata": {},
   "outputs": [
    {
     "name": "stdout",
     "output_type": "stream",
     "text": [
      "{\"name\": \"John\", \"age\": 30}\n",
      "[\"apple\", \"bananas\"]\n",
      "[\"apple\", \"bananas\"]\n",
      "\"hello\"\n",
      "42\n",
      "31.76\n",
      "true\n",
      "false\n",
      "null\n"
     ]
    }
   ],
   "source": [
    "print(json.dumps({\"name\": \"John\", \"age\": 30}))\n",
    "print(json.dumps([\"apple\", \"bananas\"]))\n",
    "print(json.dumps((\"apple\", \"bananas\")))\n",
    "print(json.dumps(\"hello\"))\n",
    "print(json.dumps(42))\n",
    "print(json.dumps(31.76))\n",
    "print(json.dumps(True))\n",
    "print(json.dumps(False))\n",
    "print(json.dumps(None))"
   ]
  },
  {
   "cell_type": "code",
   "execution_count": 41,
   "metadata": {},
   "outputs": [
    {
     "data": {
      "text/plain": [
       "{'age': 30, 'name': 'John'}"
      ]
     },
     "execution_count": 41,
     "metadata": {},
     "output_type": "execute_result"
    }
   ],
   "source": [
    "k = json.dumps({\"name\": \"John\", \"age\": 30},sort_keys=True)\n",
    "p = json.loads(k)\n",
    "p"
   ]
  },
  {
   "cell_type": "code",
   "execution_count": 39,
   "metadata": {},
   "outputs": [
    {
     "name": "stdout",
     "output_type": "stream",
     "text": [
      "{\"name\": \"John\", \"age\": 30, \"married\": true, \"divorced\": false, \"children\": [\"Ann\", \"Billy\"], \"pets\": null, \"cars\": [{\"model\": \"BMW 230\", \"mpg\": 27.5}, {\"model\": \"Ford Edge\", \"mpg\": 24.1}]}\n"
     ]
    }
   ],
   "source": [
    "import json\n",
    "\n",
    "x = {\n",
    "  \"name\": \"John\",\n",
    "  \"age\": 30,\n",
    "  \"married\": True,\n",
    "  \"divorced\": False,\n",
    "  \"children\": (\"Ann\",\"Billy\"),\n",
    "  \"pets\": None,\n",
    "  \"cars\": [\n",
    "    {\"model\": \"BMW 230\", \"mpg\": 27.5},\n",
    "    {\"model\": \"Ford Edge\", \"mpg\": 24.1}\n",
    "  ]\n",
    "}\n",
    "\n",
    "print(json.dumps(x))"
   ]
  },
  {
   "cell_type": "code",
   "execution_count": 42,
   "metadata": {},
   "outputs": [
    {
     "name": "stdout",
     "output_type": "stream",
     "text": [
      "Windows\n"
     ]
    }
   ],
   "source": [
    "import platform\n",
    "\n",
    "x = platform.system()\n",
    "print(x)"
   ]
  },
  {
   "cell_type": "code",
   "execution_count": 43,
   "metadata": {},
   "outputs": [
    {
     "name": "stdout",
     "output_type": "stream",
     "text": [
      "['DEV_NULL', '_UNIXCONFDIR', '_WIN32_CLIENT_RELEASES', '_WIN32_SERVER_RELEASES', '__builtins__', '__cached__', '__copyright__', '__doc__', '__file__', '__loader__', '__name__', '__package__', '__spec__', '__version__', '_comparable_version', '_component_re', '_default_architecture', '_dist_try_harder', '_follow_symlinks', '_ironpython26_sys_version_parser', '_ironpython_sys_version_parser', '_java_getprop', '_libc_search', '_linux_distribution', '_lsb_release_version', '_mac_ver_xml', '_node', '_norm_version', '_parse_release_file', '_platform', '_platform_cache', '_pypy_sys_version_parser', '_release_filename', '_release_version', '_supported_dists', '_sys_version', '_sys_version_cache', '_sys_version_parser', '_syscmd_file', '_syscmd_uname', '_syscmd_ver', '_uname_cache', '_ver_output', '_ver_stages', 'architecture', 'collections', 'dist', 'java_ver', 'libc_ver', 'linux_distribution', 'mac_ver', 'machine', 'node', 'os', 'platform', 'popen', 'processor', 'python_branch', 'python_build', 'python_compiler', 'python_implementation', 'python_revision', 'python_version', 'python_version_tuple', 're', 'release', 'subprocess', 'sys', 'system', 'system_alias', 'uname', 'uname_result', 'version', 'warnings', 'win32_ver']\n"
     ]
    }
   ],
   "source": [
    "import platform\n",
    "\n",
    "x = dir(platform)\n",
    "print(x)"
   ]
  },
  {
   "cell_type": "code",
   "execution_count": 11,
   "metadata": {},
   "outputs": [
    {
     "data": {
      "text/plain": [
       "True"
      ]
     },
     "execution_count": 11,
     "metadata": {},
     "output_type": "execute_result"
    }
   ],
   "source": [
    "dict = {4234:\"Arshad\",4288:False,4095:\"Vamsi\"}\n",
    "all(dict)"
   ]
  },
  {
   "cell_type": "code",
   "execution_count": 12,
   "metadata": {},
   "outputs": [
    {
     "data": {
      "text/plain": [
       "False"
      ]
     },
     "execution_count": 12,
     "metadata": {},
     "output_type": "execute_result"
    }
   ],
   "source": [
    "list = [True,False,True,True]\n",
    "all(list)"
   ]
  },
  {
   "cell_type": "code",
   "execution_count": 15,
   "metadata": {},
   "outputs": [
    {
     "data": {
      "text/plain": [
       "(3, 1)"
      ]
     },
     "execution_count": 15,
     "metadata": {},
     "output_type": "execute_result"
    }
   ],
   "source": [
    "divmod(10,3)"
   ]
  },
  {
   "cell_type": "code",
   "execution_count": 16,
   "metadata": {},
   "outputs": [
    {
     "data": {
      "text/plain": [
       "81"
      ]
     },
     "execution_count": 16,
     "metadata": {},
     "output_type": "execute_result"
    }
   ],
   "source": [
    "pow(9,2)"
   ]
  },
  {
   "cell_type": "code",
   "execution_count": 19,
   "metadata": {},
   "outputs": [
    {
     "name": "stdout",
     "output_type": "stream",
     "text": [
      "14\n"
     ]
    }
   ],
   "source": [
    "\n",
    "class Student:\n",
    "    def __init__()\n",
    "\n",
    "    def __add__(self,a,b):\n",
    "        return self.a*self.b\n",
    "\n",
    "a=5\n",
    "b=9\n",
    "print(a+b)"
   ]
  },
  {
   "cell_type": "code",
   "execution_count": 5,
   "metadata": {},
   "outputs": [
    {
     "name": "stdout",
     "output_type": "stream",
     "text": [
      "153\n",
      "153\n"
     ]
    }
   ],
   "source": [
    "n = int(input())\n",
    "w =n+1\n",
    "arm=0\n",
    "while(n!=0):\n",
    "    rem = n%10\n",
    "    arm = arm+(rem*rem*rem)\n",
    "    n = n//10\n",
    "print(arm)"
   ]
  },
  {
   "cell_type": "code",
   "execution_count": 8,
   "metadata": {},
   "outputs": [
    {
     "data": {
      "text/plain": [
       "9"
      ]
     },
     "execution_count": 8,
     "metadata": {},
     "output_type": "execute_result"
    }
   ],
   "source": [
    "a =9\n",
    "b=8\n",
    "a = a^b\n",
    "b= a^b\n",
    "a=a^b\n",
    "\n"
   ]
  },
  {
   "cell_type": "code",
   "execution_count": 9,
   "metadata": {},
   "outputs": [
    {
     "ename": "SyntaxError",
     "evalue": "invalid syntax (<ipython-input-9-28431a552093>, line 6)",
     "output_type": "error",
     "traceback": [
      "\u001b[1;36m  File \u001b[1;32m\"<ipython-input-9-28431a552093>\"\u001b[1;36m, line \u001b[1;32m6\u001b[0m\n\u001b[1;33m    while(first<=last)\u001b[0m\n\u001b[1;37m                      ^\u001b[0m\n\u001b[1;31mSyntaxError\u001b[0m\u001b[1;31m:\u001b[0m invalid syntax\n"
     ]
    }
   ],
   "source": [
    "l = [1,2,3,4,5,6,7,8,9]\n",
    "k =  len(l)\n",
    "first = l[0]\n",
    "last = l[k-1]\n",
    "mid = (first+last)//2\n",
    "while(first<=last):\n",
    "    "
   ]
  },
  {
   "cell_type": "code",
   "execution_count": 35,
   "metadata": {},
   "outputs": [
    {
     "name": "stdout",
     "output_type": "stream",
     "text": [
      "Arshad\n",
      "Arshad\n",
      "Arshda\n",
      "Arsahd\n",
      "Arsadh\n",
      "Arsdah\n",
      "Arsdha\n",
      "Arhsad\n",
      "Arhsda\n",
      "Arhasd\n",
      "Arhads\n",
      "Arhdas\n",
      "Arhdsa\n",
      "Arahsd\n",
      "Arahds\n",
      "Arashd\n",
      "Arasdh\n",
      "Aradsh\n",
      "Aradhs\n",
      "Ardhas\n",
      "Ardhsa\n",
      "Ardahs\n",
      "Ardash\n",
      "Ardsah\n",
      "Ardsha\n",
      "Asrhad\n",
      "Asrhda\n",
      "Asrahd\n",
      "Asradh\n",
      "Asrdah\n",
      "Asrdha\n",
      "Ashrad\n",
      "Ashrda\n",
      "Ashard\n",
      "Ashadr\n",
      "Ashdar\n",
      "Ashdra\n",
      "Asahrd\n",
      "Asahdr\n",
      "Asarhd\n",
      "Asardh\n",
      "Asadrh\n",
      "Asadhr\n",
      "Asdhar\n",
      "Asdhra\n",
      "Asdahr\n",
      "Asdarh\n",
      "Asdrah\n",
      "Asdrha\n",
      "Ahsrad\n",
      "Ahsrda\n",
      "Ahsard\n",
      "Ahsadr\n",
      "Ahsdar\n",
      "Ahsdra\n",
      "Ahrsad\n",
      "Ahrsda\n",
      "Ahrasd\n",
      "Ahrads\n",
      "Ahrdas\n",
      "Ahrdsa\n",
      "Aharsd\n",
      "Ahards\n",
      "Ahasrd\n",
      "Ahasdr\n",
      "Ahadsr\n",
      "Ahadrs\n",
      "Ahdras\n",
      "Ahdrsa\n",
      "Ahdars\n",
      "Ahdasr\n",
      "Ahdsar\n",
      "Ahdsra\n",
      "Aashrd\n",
      "Aashdr\n",
      "Aasrhd\n",
      "Aasrdh\n",
      "Aasdrh\n",
      "Aasdhr\n",
      "Aahsrd\n",
      "Aahsdr\n",
      "Aahrsd\n",
      "Aahrds\n",
      "Aahdrs\n",
      "Aahdsr\n",
      "Aarhsd\n",
      "Aarhds\n",
      "Aarshd\n",
      "Aarsdh\n",
      "Aardsh\n",
      "Aardhs\n",
      "Aadhrs\n",
      "Aadhsr\n",
      "Aadrhs\n",
      "Aadrsh\n",
      "Aadsrh\n",
      "Aadshr\n",
      "Adshar\n",
      "Adshra\n",
      "Adsahr\n",
      "Adsarh\n",
      "Adsrah\n",
      "Adsrha\n",
      "Adhsar\n",
      "Adhsra\n",
      "Adhasr\n",
      "Adhars\n",
      "Adhras\n",
      "Adhrsa\n",
      "Adahsr\n",
      "Adahrs\n",
      "Adashr\n",
      "Adasrh\n",
      "Adarsh\n",
      "Adarhs\n",
      "Adrhas\n",
      "Adrhsa\n",
      "Adrahs\n",
      "Adrash\n",
      "Adrsah\n",
      "Adrsha\n",
      "rAshad\n",
      "rAshda\n",
      "rAsahd\n",
      "rAsadh\n",
      "rAsdah\n",
      "rAsdha\n",
      "rAhsad\n",
      "rAhsda\n",
      "rAhasd\n",
      "rAhads\n",
      "rAhdas\n",
      "rAhdsa\n",
      "rAahsd\n",
      "rAahds\n",
      "rAashd\n",
      "rAasdh\n",
      "rAadsh\n",
      "rAadhs\n",
      "rAdhas\n",
      "rAdhsa\n",
      "rAdahs\n",
      "rAdash\n",
      "rAdsah\n",
      "rAdsha\n",
      "rsAhad\n",
      "rsAhda\n",
      "rsAahd\n",
      "rsAadh\n",
      "rsAdah\n",
      "rsAdha\n",
      "rshAad\n",
      "rshAda\n",
      "rshaAd\n",
      "rshadA\n",
      "rshdaA\n",
      "rshdAa\n",
      "rsahAd\n",
      "rsahdA\n",
      "rsaAhd\n",
      "rsaAdh\n",
      "rsadAh\n",
      "rsadhA\n",
      "rsdhaA\n",
      "rsdhAa\n",
      "rsdahA\n",
      "rsdaAh\n",
      "rsdAah\n",
      "rsdAha\n",
      "rhsAad\n",
      "rhsAda\n",
      "rhsaAd\n",
      "rhsadA\n",
      "rhsdaA\n",
      "rhsdAa\n",
      "rhAsad\n",
      "rhAsda\n",
      "rhAasd\n",
      "rhAads\n",
      "rhAdas\n",
      "rhAdsa\n",
      "rhaAsd\n",
      "rhaAds\n",
      "rhasAd\n",
      "rhasdA\n",
      "rhadsA\n",
      "rhadAs\n",
      "rhdAas\n",
      "rhdAsa\n",
      "rhdaAs\n",
      "rhdasA\n",
      "rhdsaA\n",
      "rhdsAa\n",
      "rashAd\n",
      "rashdA\n",
      "rasAhd\n",
      "rasAdh\n",
      "rasdAh\n",
      "rasdhA\n",
      "rahsAd\n",
      "rahsdA\n",
      "rahAsd\n",
      "rahAds\n",
      "rahdAs\n",
      "rahdsA\n",
      "raAhsd\n",
      "raAhds\n",
      "raAshd\n",
      "raAsdh\n",
      "raAdsh\n",
      "raAdhs\n",
      "radhAs\n",
      "radhsA\n",
      "radAhs\n",
      "radAsh\n",
      "radsAh\n",
      "radshA\n",
      "rdshaA\n",
      "rdshAa\n",
      "rdsahA\n",
      "rdsaAh\n",
      "rdsAah\n",
      "rdsAha\n",
      "rdhsaA\n",
      "rdhsAa\n",
      "rdhasA\n",
      "rdhaAs\n",
      "rdhAas\n",
      "rdhAsa\n",
      "rdahsA\n",
      "rdahAs\n",
      "rdashA\n",
      "rdasAh\n",
      "rdaAsh\n",
      "rdaAhs\n",
      "rdAhas\n",
      "rdAhsa\n",
      "rdAahs\n",
      "rdAash\n",
      "rdAsah\n",
      "rdAsha\n",
      "srAhad\n",
      "srAhda\n",
      "srAahd\n",
      "srAadh\n",
      "srAdah\n",
      "srAdha\n",
      "srhAad\n",
      "srhAda\n",
      "srhaAd\n",
      "srhadA\n",
      "srhdaA\n",
      "srhdAa\n",
      "srahAd\n",
      "srahdA\n",
      "sraAhd\n",
      "sraAdh\n",
      "sradAh\n",
      "sradhA\n",
      "srdhaA\n",
      "srdhAa\n",
      "srdahA\n",
      "srdaAh\n",
      "srdAah\n",
      "srdAha\n",
      "sArhad\n",
      "sArhda\n",
      "sArahd\n",
      "sAradh\n",
      "sArdah\n",
      "sArdha\n",
      "sAhrad\n",
      "sAhrda\n",
      "sAhard\n",
      "sAhadr\n",
      "sAhdar\n",
      "sAhdra\n",
      "sAahrd\n",
      "sAahdr\n",
      "sAarhd\n",
      "sAardh\n",
      "sAadrh\n",
      "sAadhr\n",
      "sAdhar\n",
      "sAdhra\n",
      "sAdahr\n",
      "sAdarh\n",
      "sAdrah\n",
      "sAdrha\n",
      "shArad\n",
      "shArda\n",
      "shAard\n",
      "shAadr\n",
      "shAdar\n",
      "shAdra\n",
      "shrAad\n",
      "shrAda\n",
      "shraAd\n",
      "shradA\n",
      "shrdaA\n",
      "shrdAa\n",
      "sharAd\n",
      "shardA\n",
      "shaArd\n",
      "shaAdr\n",
      "shadAr\n",
      "shadrA\n",
      "shdraA\n",
      "shdrAa\n",
      "shdarA\n",
      "shdaAr\n",
      "shdAar\n",
      "shdAra\n",
      "saAhrd\n",
      "saAhdr\n",
      "saArhd\n",
      "saArdh\n",
      "saAdrh\n",
      "saAdhr\n",
      "sahArd\n",
      "sahAdr\n",
      "sahrAd\n",
      "sahrdA\n",
      "sahdrA\n",
      "sahdAr\n",
      "sarhAd\n",
      "sarhdA\n",
      "sarAhd\n",
      "sarAdh\n",
      "sardAh\n",
      "sardhA\n",
      "sadhrA\n",
      "sadhAr\n",
      "sadrhA\n",
      "sadrAh\n",
      "sadArh\n",
      "sadAhr\n",
      "sdAhar\n",
      "sdAhra\n",
      "sdAahr\n",
      "sdAarh\n",
      "sdArah\n",
      "sdArha\n",
      "sdhAar\n",
      "sdhAra\n",
      "sdhaAr\n",
      "sdharA\n",
      "sdhraA\n",
      "sdhrAa\n",
      "sdahAr\n",
      "sdahrA\n",
      "sdaAhr\n",
      "sdaArh\n",
      "sdarAh\n",
      "sdarhA\n",
      "sdrhaA\n",
      "sdrhAa\n",
      "sdrahA\n",
      "sdraAh\n",
      "sdrAah\n",
      "sdrAha\n",
      "hrsAad\n",
      "hrsAda\n",
      "hrsaAd\n",
      "hrsadA\n",
      "hrsdaA\n",
      "hrsdAa\n",
      "hrAsad\n",
      "hrAsda\n",
      "hrAasd\n",
      "hrAads\n",
      "hrAdas\n",
      "hrAdsa\n",
      "hraAsd\n",
      "hraAds\n",
      "hrasAd\n",
      "hrasdA\n",
      "hradsA\n",
      "hradAs\n",
      "hrdAas\n",
      "hrdAsa\n",
      "hrdaAs\n",
      "hrdasA\n",
      "hrdsaA\n",
      "hrdsAa\n",
      "hsrAad\n",
      "hsrAda\n",
      "hsraAd\n",
      "hsradA\n",
      "hsrdaA\n",
      "hsrdAa\n",
      "hsArad\n",
      "hsArda\n",
      "hsAard\n",
      "hsAadr\n",
      "hsAdar\n",
      "hsAdra\n",
      "hsaArd\n",
      "hsaAdr\n",
      "hsarAd\n",
      "hsardA\n",
      "hsadrA\n",
      "hsadAr\n",
      "hsdAar\n",
      "hsdAra\n",
      "hsdaAr\n",
      "hsdarA\n",
      "hsdraA\n",
      "hsdrAa\n",
      "hAsrad\n",
      "hAsrda\n",
      "hAsard\n",
      "hAsadr\n",
      "hAsdar\n",
      "hAsdra\n",
      "hArsad\n",
      "hArsda\n",
      "hArasd\n",
      "hArads\n",
      "hArdas\n",
      "hArdsa\n",
      "hAarsd\n",
      "hAards\n",
      "hAasrd\n",
      "hAasdr\n",
      "hAadsr\n",
      "hAadrs\n",
      "hAdras\n",
      "hAdrsa\n",
      "hAdars\n",
      "hAdasr\n",
      "hAdsar\n",
      "hAdsra\n",
      "hasArd\n",
      "hasAdr\n",
      "hasrAd\n",
      "hasrdA\n",
      "hasdrA\n",
      "hasdAr\n",
      "haAsrd\n",
      "haAsdr\n",
      "haArsd\n",
      "haArds\n",
      "haAdrs\n",
      "haAdsr\n",
      "harAsd\n",
      "harAds\n",
      "harsAd\n",
      "harsdA\n",
      "hardsA\n",
      "hardAs\n",
      "hadArs\n",
      "hadAsr\n",
      "hadrAs\n",
      "hadrsA\n",
      "hadsrA\n",
      "hadsAr\n",
      "hdsAar\n",
      "hdsAra\n",
      "hdsaAr\n",
      "hdsarA\n",
      "hdsraA\n",
      "hdsrAa\n",
      "hdAsar\n",
      "hdAsra\n",
      "hdAasr\n",
      "hdAars\n",
      "hdAras\n",
      "hdArsa\n",
      "hdaAsr\n",
      "hdaArs\n",
      "hdasAr\n",
      "hdasrA\n",
      "hdarsA\n",
      "hdarAs\n",
      "hdrAas\n",
      "hdrAsa\n",
      "hdraAs\n",
      "hdrasA\n",
      "hdrsaA\n",
      "hdrsAa\n",
      "arshAd\n",
      "arshdA\n",
      "arsAhd\n",
      "arsAdh\n",
      "arsdAh\n",
      "arsdhA\n",
      "arhsAd\n",
      "arhsdA\n",
      "arhAsd\n",
      "arhAds\n",
      "arhdAs\n",
      "arhdsA\n",
      "arAhsd\n",
      "arAhds\n",
      "arAshd\n",
      "arAsdh\n",
      "arAdsh\n",
      "arAdhs\n",
      "ardhAs\n",
      "ardhsA\n",
      "ardAhs\n",
      "ardAsh\n",
      "ardsAh\n",
      "ardshA\n",
      "asrhAd\n",
      "asrhdA\n",
      "asrAhd\n",
      "asrAdh\n",
      "asrdAh\n",
      "asrdhA\n",
      "ashrAd\n",
      "ashrdA\n",
      "ashArd\n",
      "ashAdr\n",
      "ashdAr\n",
      "ashdrA\n",
      "asAhrd\n",
      "asAhdr\n",
      "asArhd\n",
      "asArdh\n",
      "asAdrh\n",
      "asAdhr\n",
      "asdhAr\n",
      "asdhrA\n",
      "asdAhr\n",
      "asdArh\n",
      "asdrAh\n",
      "asdrhA\n",
      "ahsrAd\n",
      "ahsrdA\n",
      "ahsArd\n",
      "ahsAdr\n",
      "ahsdAr\n",
      "ahsdrA\n",
      "ahrsAd\n",
      "ahrsdA\n",
      "ahrAsd\n",
      "ahrAds\n",
      "ahrdAs\n",
      "ahrdsA\n",
      "ahArsd\n",
      "ahArds\n",
      "ahAsrd\n",
      "ahAsdr\n",
      "ahAdsr\n",
      "ahAdrs\n",
      "ahdrAs\n",
      "ahdrsA\n",
      "ahdArs\n",
      "ahdAsr\n",
      "ahdsAr\n",
      "ahdsrA\n",
      "aAshrd\n",
      "aAshdr\n",
      "aAsrhd\n",
      "aAsrdh\n",
      "aAsdrh\n",
      "aAsdhr\n",
      "aAhsrd\n",
      "aAhsdr\n",
      "aAhrsd\n",
      "aAhrds\n",
      "aAhdrs\n",
      "aAhdsr\n",
      "aArhsd\n",
      "aArhds\n",
      "aArshd\n",
      "aArsdh\n",
      "aArdsh\n",
      "aArdhs\n",
      "aAdhrs\n",
      "aAdhsr\n",
      "aAdrhs\n",
      "aAdrsh\n",
      "aAdsrh\n",
      "aAdshr\n",
      "adshAr\n",
      "adshrA\n",
      "adsAhr\n",
      "adsArh\n",
      "adsrAh\n",
      "adsrhA\n",
      "adhsAr\n",
      "adhsrA\n",
      "adhAsr\n",
      "adhArs\n",
      "adhrAs\n",
      "adhrsA\n",
      "adAhsr\n",
      "adAhrs\n",
      "adAshr\n",
      "adAsrh\n",
      "adArsh\n",
      "adArhs\n",
      "adrhAs\n",
      "adrhsA\n",
      "adrAhs\n",
      "adrAsh\n",
      "adrsAh\n",
      "adrshA\n",
      "drshaA\n",
      "drshAa\n",
      "drsahA\n",
      "drsaAh\n",
      "drsAah\n",
      "drsAha\n",
      "drhsaA\n",
      "drhsAa\n",
      "drhasA\n",
      "drhaAs\n",
      "drhAas\n",
      "drhAsa\n",
      "drahsA\n",
      "drahAs\n",
      "drashA\n",
      "drasAh\n",
      "draAsh\n",
      "draAhs\n",
      "drAhas\n",
      "drAhsa\n",
      "drAahs\n",
      "drAash\n",
      "drAsah\n",
      "drAsha\n",
      "dsrhaA\n",
      "dsrhAa\n",
      "dsrahA\n",
      "dsraAh\n",
      "dsrAah\n",
      "dsrAha\n",
      "dshraA\n",
      "dshrAa\n",
      "dsharA\n",
      "dshaAr\n",
      "dshAar\n",
      "dshAra\n",
      "dsahrA\n",
      "dsahAr\n",
      "dsarhA\n",
      "dsarAh\n",
      "dsaArh\n",
      "dsaAhr\n",
      "dsAhar\n",
      "dsAhra\n",
      "dsAahr\n",
      "dsAarh\n",
      "dsArah\n",
      "dsArha\n",
      "dhsraA\n",
      "dhsrAa\n",
      "dhsarA\n",
      "dhsaAr\n",
      "dhsAar\n",
      "dhsAra\n",
      "dhrsaA\n",
      "dhrsAa\n",
      "dhrasA\n",
      "dhraAs\n",
      "dhrAas\n",
      "dhrAsa\n",
      "dharsA\n",
      "dharAs\n",
      "dhasrA\n",
      "dhasAr\n",
      "dhaAsr\n",
      "dhaArs\n",
      "dhAras\n",
      "dhArsa\n",
      "dhAars\n",
      "dhAasr\n",
      "dhAsar\n",
      "dhAsra\n",
      "dashrA\n",
      "dashAr\n",
      "dasrhA\n",
      "dasrAh\n",
      "dasArh\n",
      "dasAhr\n",
      "dahsrA\n",
      "dahsAr\n",
      "dahrsA\n",
      "dahrAs\n",
      "dahArs\n",
      "dahAsr\n",
      "darhsA\n",
      "darhAs\n",
      "darshA\n",
      "darsAh\n",
      "darAsh\n",
      "darAhs\n",
      "daAhrs\n",
      "daAhsr\n",
      "daArhs\n",
      "daArsh\n",
      "daAsrh\n",
      "daAshr\n",
      "dAshar\n",
      "dAshra\n",
      "dAsahr\n",
      "dAsarh\n",
      "dAsrah\n",
      "dAsrha\n",
      "dAhsar\n",
      "dAhsra\n",
      "dAhasr\n",
      "dAhars\n",
      "dAhras\n",
      "dAhrsa\n",
      "dAahsr\n",
      "dAahrs\n",
      "dAashr\n",
      "dAasrh\n",
      "dAarsh\n",
      "dAarhs\n",
      "dArhas\n",
      "dArhsa\n",
      "dArahs\n",
      "dArash\n",
      "dArsah\n",
      "dArsha\n"
     ]
    }
   ],
   "source": [
    "\n",
    "def permut(s,a,b):\n",
    "    if a==b:\n",
    "        print(\"\".join(s))\n",
    "    \n",
    "    for i in range(a,b):\n",
    "        s[i],s[a] = s[a],s[i]\n",
    "        permut(s,a+1,b)\n",
    "        s[i],s[a] = s[a],s[i]\n",
    "n = input()\n",
    "s=list(n)\n",
    "permut(s,0,len(s))\n",
    "    "
   ]
  },
  {
   "cell_type": "code",
   "execution_count": 12,
   "metadata": {},
   "outputs": [
    {
     "data": {
      "text/plain": [
       "'a'"
      ]
     },
     "execution_count": 12,
     "metadata": {},
     "output_type": "execute_result"
    }
   ],
   "source": [
    "s =\"ab\"\n",
    "s[0]"
   ]
  },
  {
   "cell_type": "code",
   "execution_count": 1,
   "metadata": {},
   "outputs": [],
   "source": [
    "fact = lambda x: 1 if x == 0 else x * fact(x-1)"
   ]
  },
  {
   "cell_type": "code",
   "execution_count": 1,
   "metadata": {},
   "outputs": [],
   "source": [
    "gcd = lambda a,b: a if b ==0  else gcd(b,a%b)"
   ]
  },
  {
   "cell_type": "code",
   "execution_count": 33,
   "metadata": {},
   "outputs": [
    {
     "ename": "SyntaxError",
     "evalue": "invalid syntax (<ipython-input-33-ad7e1cdd4f35>, line 4)",
     "output_type": "error",
     "traceback": [
      "\u001b[1;36m  File \u001b[1;32m\"<ipython-input-33-ad7e1cdd4f35>\"\u001b[1;36m, line \u001b[1;32m4\u001b[0m\n\u001b[1;33m    palindrome(n,m)\u001b[0m\n\u001b[1;37m             ^\u001b[0m\n\u001b[1;31mSyntaxError\u001b[0m\u001b[1;31m:\u001b[0m invalid syntax\n"
     ]
    }
   ],
   "source": []
  },
  {
   "cell_type": "code",
   "execution_count": 2,
   "metadata": {},
   "outputs": [
    {
     "name": "stdout",
     "output_type": "stream",
     "text": [
      "0\n"
     ]
    }
   ],
   "source": [
    "a = \"Arshad\"\n",
    "i =\"\".join(reversed(a))\n",
    "if (a!=i):\n",
    "    print(\"0\")"
   ]
  },
  {
   "cell_type": "code",
   "execution_count": null,
   "metadata": {},
   "outputs": [],
   "source": []
  }
 ],
 "metadata": {
  "kernelspec": {
   "display_name": "Python 3",
   "language": "python",
   "name": "python3"
  },
  "language_info": {
   "codemirror_mode": {
    "name": "ipython",
    "version": 3
   },
   "file_extension": ".py",
   "mimetype": "text/x-python",
   "name": "python",
   "nbconvert_exporter": "python",
   "pygments_lexer": "ipython3",
   "version": "3.7.6"
  }
 },
 "nbformat": 4,
 "nbformat_minor": 4
}
